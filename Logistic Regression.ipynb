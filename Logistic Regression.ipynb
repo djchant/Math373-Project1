{
 "cells": [
  {
   "cell_type": "code",
   "execution_count": 1,
   "metadata": {},
   "outputs": [],
   "source": [
    "import numpy as np\n",
    "import matplotlib.pyplot as plt\n",
    "import pandas as pd\n",
    "from sklearn.preprocessing import StandardScaler"
   ]
  },
  {
   "cell_type": "code",
   "execution_count": 3,
   "metadata": {},
   "outputs": [],
   "source": [
    "def preprocess_data(df):\n",
    "    df = df.loc[:,['Pclass', 'Sex', 'Age', 'SibSp', 'Parch']]\n",
    "    \n",
    "    df = df.merge(pd.get_dummies(df['Pclass']), left_index = True, right_index = True)\n",
    "    df = df.merge(pd.get_dummies(df['Sex']), left_index = True, right_index = True)\n",
    "    \n",
    "    df.drop(['Pclass', 'Sex', 'male'], axis = 1, inplace = True)\n",
    "    \n",
    "    mean_age = df['Age'].mean()\n",
    "    \n",
    "    df['Age'].fillna(mean_age, inplace = True)\n",
    "    \n",
    "    train = df.values\n",
    "    scaler = StandardScaler()\n",
    "    train = scaler.fit_transform(train)\n",
    "    train = np.insert(train, 0, 1, axis = 1)\n",
    "    \n",
    "    return train\n"
   ]
  },
  {
   "cell_type": "markdown",
   "metadata": {},
   "source": [
    "Cross-Entropy Loss Function"
   ]
  },
  {
   "cell_type": "code",
   "execution_count": 4,
   "metadata": {},
   "outputs": [],
   "source": [
    "def cross_entropy(beta, X, y):\n",
    "    y_pred = X @ beta\n",
    "    \n",
    "    N = X.shape[0]\n",
    "    p = y\n",
    "    q = sigmoid(y_pred)\n",
    "    loss = np.sum(((-1*p) * np.log(q)) - ((1 - p) * np.log(1-q)))\n",
    "\n",
    "    return loss / N"
   ]
  },
  {
   "cell_type": "markdown",
   "metadata": {},
   "source": [
    "Sigmoid"
   ]
  },
  {
   "cell_type": "code",
   "execution_count": 5,
   "metadata": {},
   "outputs": [],
   "source": [
    "def sigmoid(x):\n",
    "    x_exp = np.exp(-x)\n",
    "    \n",
    "    return 1 / (1 + x_exp)\n"
   ]
  },
  {
   "cell_type": "markdown",
   "metadata": {},
   "source": [
    "Gradients"
   ]
  },
  {
   "cell_type": "code",
   "execution_count": 6,
   "metadata": {},
   "outputs": [],
   "source": [
    "def grad_L(beta, X, y):\n",
    "    N = X.shape[0]\n",
    "    grad = 0\n",
    "    \n",
    "    for i in range(N):\n",
    "        xiHat = X[i]\n",
    "        yi = y[i]\n",
    "                \n",
    "        grad_i = (sigmoid(np.vdot(xiHat, beta)) - yi)*xiHat\n",
    "        \n",
    "        grad += grad_i\n",
    "\n",
    "    return grad/N"
   ]
  },
  {
   "cell_type": "markdown",
   "metadata": {},
   "source": [
    "Gradient Descent"
   ]
  },
  {
   "cell_type": "code",
   "execution_count": 7,
   "metadata": {},
   "outputs": [],
   "source": [
    "def grad_descent(X, y):\n",
    "    alpha = 0.1\n",
    "    iterations = 500\n",
    "    N, d_plus_1 = X.shape\n",
    "    L_vals = np.zeros(iterations)\n",
    "    beta_t = np.zeros((d_plus_1))\n",
    "        \n",
    "    for t in range(iterations):\n",
    "        L_vals[t] = cross_entropy(beta_t, X, y)        \n",
    "        beta_t = beta_t - alpha*grad_L(beta_t, X, y)\n",
    "    \n",
    "    return beta_t, L_vals"
   ]
  },
  {
   "cell_type": "code",
   "execution_count": 22,
   "metadata": {},
   "outputs": [],
   "source": [
    "def main():\n",
    "    df_train = pd.read_csv('/Users/dchant/Desktop/Math373/titanic/train.csv')\n",
    "    df_test = pd.read_csv('/Users/dchant/Desktop/Math373/titanic/test.csv')\n",
    "\n",
    "    df_out = df_test.loc[:,['PassengerId']]\n",
    "\n",
    "    y_train = df_train['Survived']\n",
    "    df_train = preprocess_data(df_train)\n",
    "\n",
    "    beta_est, L_vals = grad_descent(df_train, y_train)\n",
    "\n",
    "    plt.plot(L_vals)\n",
    "    plt.title(\"Cost Values - Train\")\n",
    "    \n",
    "    print(\"beta_est: \", beta_est)\n",
    "    \n",
    "    df_test = preprocess_data(df_test)\n",
    "    pred = np.round(sigmoid(df_test@beta_est))\n",
    "\n",
    "    df_out['Survived'] = pd.Series(predictions)\n",
    "    titanic_test1['Survived'] = titanic_test1['Survived'].astype(int)\n",
    "    df_out.to_csv('submission.csv', index=False)"
   ]
  },
  {
   "cell_type": "code",
   "execution_count": 23,
   "metadata": {},
   "outputs": [
    {
     "name": "stdout",
     "output_type": "stream",
     "text": [
      "beta_est:  [-0.64993688 -0.5083113  -0.35245488 -0.06680967  0.55245475  0.04720266\n",
      " -0.51441376  1.31279824]\n"
     ]
    },
    {
     "data": {
      "image/png": "[encoded data removed]",
      "text/plain": [
       "<Figure size 432x288 with 1 Axes>"
      ]
     },
     "metadata": {
      "needs_background": "light"
     },
     "output_type": "display_data"
    }
   ],
   "source": [
    "main()"
   ]
  },
  {
   "cell_type": "markdown",
   "metadata": {},
   "source": [
    "- "
   ]
  }
 ],
 "metadata": {
  "kernelspec": {
   "display_name": "Python 3",
   "language": "python",
   "name": "python3"
  },
  "language_info": {
   "codemirror_mode": {
    "name": "ipython",
    "version": 3
   },
   "file_extension": ".py",
   "mimetype": "text/x-python",
   "name": "python",
   "nbconvert_exporter": "python",
   "pygments_lexer": "ipython3",
   "version": "3.8.5"
  }
 },
 "nbformat": 4,
 "nbformat_minor": 4
}
